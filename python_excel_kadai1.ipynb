{
  "nbformat": 4,
  "nbformat_minor": 0,
  "metadata": {
    "colab": {
      "provenance": [],
      "authorship_tag": "ABX9TyO6DOIMMKmcgsTVbeiqDR6S",
      "include_colab_link": true
    },
    "kernelspec": {
      "name": "python3",
      "display_name": "Python 3"
    },
    "language_info": {
      "name": "python"
    }
  },
  "cells": [
    {
      "cell_type": "markdown",
      "metadata": {
        "id": "view-in-github",
        "colab_type": "text"
      },
      "source": [
        "<a href=\"https://colab.research.google.com/github/detectivekotono/Samurai/blob/Python/python_excel_kadai1.ipynb\" target=\"_parent\"><img src=\"https://colab.research.google.com/assets/colab-badge.svg\" alt=\"Open In Colab\"/></a>"
      ]
    },
    {
      "cell_type": "code",
      "execution_count": null,
      "metadata": {
        "id": "gUTejJOv_pu5"
      },
      "outputs": [],
      "source": [
        "import openpyxl\n",
        "from datetime import datetime\n",
        "from openpyxl.styles import Border,Side\n",
        "#日付のフォーマット\n",
        "now = datetime.now()\n",
        "formatted_date = now.strftime('%Y/%m/%d')\n",
        "#新しいワークブックを作成\n",
        "workbook = openpyxl.Workbook()\n",
        "sheet = workbook.active\n",
        "#アクティブなシートを読み込む\n",
        "ws = workbook.active\n",
        "#セルに値を書き込む\n",
        "ws['B2'] = '請求書'\n",
        "ws['B4'] = '株式会社ABC'\n",
        "ws['B5'] = '〒101-0022 東京都千代田区神田練塀町300'\n",
        "ws['B6'] = 'TEL:03-1234-5678 FAX:03-1234-5678'\n",
        "ws['B7'] = '担当者名:鈴木一郎 様'\n",
        "ws['F4'] = 'No.'\n",
        "ws['F5'] = '日付'\n",
        "ws['G4'] = '0001'\n",
        "ws['G5'] = formatted_date\n",
        "\n",
        "#表のヘッダーをB10：E10列に書き込む\n",
        "header = ['商品名','数量','単価','金額']\n",
        "for i, col in enumerate(header, start=2):\n",
        "    sheet.cell(row=10, column=i, value=col)\n",
        "#表のデータを書き込む\n",
        "data = [\n",
        "    ['商品A',2,10000,20000],\n",
        "    ['商品B',1,15000,15000]\n",
        "]\n",
        "for row_index, row_data in enumerate(data, start=11):\n",
        "    for col_index, value in enumerate(row_data, start=2):\n",
        "        sheet.cell(row=row_index, column=col_index, value=value)\n",
        "#合計金額の直接書き込み\n",
        "ws['E13'] = '35000'\n",
        "#小計部分を記載\n",
        "total_price = [\n",
        "    ['小計','','',35000],\n",
        "    ['消費税','','',3500],\n",
        "    ['合計','','',38500]\n",
        "]\n",
        "for row_index, row_data in enumerate(total_price, start=15):\n",
        "    for col_index, value in enumerate(row_data, start=2):\n",
        "        sheet.cell(row=row_index, column=col_index, value=value)\n",
        "workbook.save('請求書_20240708.xlsx')"
      ]
    },
    {
      "cell_type": "code",
      "source": [],
      "metadata": {
        "id": "VedPVF74Mn8p"
      },
      "execution_count": null,
      "outputs": []
    }
  ]
}