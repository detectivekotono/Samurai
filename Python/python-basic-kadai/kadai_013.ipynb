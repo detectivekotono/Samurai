{
  "nbformat": 4,
  "nbformat_minor": 0,
  "metadata": {
    "colab": {
      "provenance": []
    },
    "kernelspec": {
      "name": "python3",
      "display_name": "Python 3"
    },
    "language_info": {
      "name": "python"
    }
  },
  "cells": [
    {
      "cell_type": "code",
      "execution_count": 1,
      "metadata": {
        "colab": {
          "base_uri": "https://localhost:8080/"
        },
        "id": "f4U7YWopqrrH",
        "outputId": "26ea33b2-9c65-4079-cb79-9154c857fb96"
      },
      "outputs": [
        {
          "output_type": "stream",
          "name": "stdout",
          "text": [
            "110.00000000000001円\n"
          ]
        }
      ],
      "source": [
        "def add_two_arguments(price,fee):\n",
        "    total=price*fee\n",
        "    print(f\"{total}円\")\n",
        "add_two_arguments(100,1.10)"
      ]
    }
  ]
}