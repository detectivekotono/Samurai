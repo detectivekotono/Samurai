{
  "nbformat": 4,
  "nbformat_minor": 0,
  "metadata": {
    "colab": {
      "provenance": [],
      "authorship_tag": "ABX9TyOXwXSZ+hab7iFlpzV6rgPi",
      "include_colab_link": true
    },
    "kernelspec": {
      "name": "python3",
      "display_name": "Python 3"
    },
    "language_info": {
      "name": "python"
    }
  },
  "cells": [
    {
      "cell_type": "markdown",
      "metadata": {
        "id": "view-in-github",
        "colab_type": "text"
      },
      "source": [
        "<a href=\"https://colab.research.google.com/github/detectivekotono/Samurai/blob/Python/Kadai_015.ipynb\" target=\"_parent\"><img src=\"https://colab.research.google.com/assets/colab-badge.svg\" alt=\"Open In Colab\"/></a>"
      ]
    },
    {
      "cell_type": "code",
      "execution_count": 7,
      "metadata": {
        "id": "A_DRsUTRFX-S"
      },
      "outputs": [],
      "source": [
        "class human:\n",
        "    def __init__(self,):\n",
        "        self.name = \"\"\n",
        "        self.age = \"\"\n",
        "    def set_name(self,name):\n",
        "        self.name =name\n",
        "    def set_age(self,age):\n",
        "        self.age = age\n",
        "call = human()\n",
        "call.set_name(\"桂子\")\n",
        "call.set_age(37)\n"
      ]
    }
  ]
}