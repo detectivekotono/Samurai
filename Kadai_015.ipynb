{
  "nbformat": 4,
  "nbformat_minor": 0,
  "metadata": {
    "colab": {
      "provenance": [],
      "authorship_tag": "ABX9TyMDCSAp7TPgdWQrqab7Psja",
      "include_colab_link": true
    },
    "kernelspec": {
      "name": "python3",
      "display_name": "Python 3"
    },
    "language_info": {
      "name": "python"
    }
  },
  "cells": [
    {
      "cell_type": "markdown",
      "metadata": {
        "id": "view-in-github",
        "colab_type": "text"
      },
      "source": [
        "<a href=\"https://colab.research.google.com/github/detectivekotono/Samurai/blob/Python/Kadai_015.ipynb\" target=\"_parent\"><img src=\"https://colab.research.google.com/assets/colab-badge.svg\" alt=\"Open In Colab\"/></a>"
      ]
    },
    {
      "cell_type": "code",
      "execution_count": 13,
      "metadata": {
        "id": "A_DRsUTRFX-S",
        "colab": {
          "base_uri": "https://localhost:8080/"
        },
        "outputId": "208b3105-092f-40ba-e80b-bc0a9d09bbc5"
      },
      "outputs": [
        {
          "output_type": "stream",
          "name": "stdout",
          "text": [
            "名前:桂子,年齢:37\n"
          ]
        }
      ],
      "source": [
        "class human:\n",
        "    def __init__(self,):\n",
        "        self.name = \"\"\n",
        "        self.age = \"\"\n",
        "    def set_name(self,name):\n",
        "        self.name =name\n",
        "    def set_age(self,age):\n",
        "        self.age = age\n",
        "    def printinfo(self):\n",
        "        print(f\"名前:{self.name},年齢:{self.age}\")\n",
        "person =human()\n",
        "person.set_name(\"桂子\")\n",
        "person.set_age(37)\n",
        "person.printinfo()"
      ]
    },
    {
      "cell_type": "code",
      "source": [],
      "metadata": {
        "id": "IzeRiIDWDbBc"
      },
      "execution_count": null,
      "outputs": []
    }
  ]
}