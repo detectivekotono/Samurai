{
  "nbformat": 4,
  "nbformat_minor": 0,
  "metadata": {
    "colab": {
      "provenance": [],
      "authorship_tag": "ABX9TyN8P7v9T4O0Di3GtnkvGWIf"
    },
    "kernelspec": {
      "name": "python3",
      "display_name": "Python 3"
    },
    "language_info": {
      "name": "python"
    }
  },
  "cells": [
    {
      "cell_type": "code",
      "execution_count": 1,
      "metadata": {
        "colab": {
          "base_uri": "https://localhost:8080/"
        },
        "id": "lWVvUIXoEt8H",
        "outputId": "e82e6f9c-36df-4a81-eb6c-e1720f636742"
      },
      "outputs": [
        {
          "output_type": "stream",
          "name": "stdout",
          "text": [
            "Requirement already satisfied: requests in /usr/local/lib/python3.10/dist-packages (2.31.0)\n",
            "Requirement already satisfied: beautifulsoup4 in /usr/local/lib/python3.10/dist-packages (4.12.3)\n",
            "Requirement already satisfied: charset-normalizer<4,>=2 in /usr/local/lib/python3.10/dist-packages (from requests) (3.3.2)\n",
            "Requirement already satisfied: idna<4,>=2.5 in /usr/local/lib/python3.10/dist-packages (from requests) (3.7)\n",
            "Requirement already satisfied: urllib3<3,>=1.21.1 in /usr/local/lib/python3.10/dist-packages (from requests) (2.0.7)\n",
            "Requirement already satisfied: certifi>=2017.4.17 in /usr/local/lib/python3.10/dist-packages (from requests) (2024.7.4)\n",
            "Requirement already satisfied: soupsieve>1.2 in /usr/local/lib/python3.10/dist-packages (from beautifulsoup4) (2.5)\n"
          ]
        }
      ],
      "source": [
        "!pip install requests beautifulsoup4"
      ]
    },
    {
      "cell_type": "code",
      "source": [
        "import requests\n",
        "from bs4 import BeautifulSoup\n",
        "#タイトルを取得する対象のURL\n",
        "url ='https://news.yahoo.co.jp/articles/6105c855284d50d7f36f8c16d8334bda34524f86'\n",
        "#GETリクエストを送信し、HTMLを取得する\n",
        "response = requests.get(url)\n",
        "#HTMLを解析する\n",
        "soup = BeautifulSoup(response.text, 'html.parser')\n",
        "#タイトルの要素を取得する\n",
        "#CSSセレクタを使用して、タイトルを取得する\n",
        "sentences = soup.select('#uamods > .article_body > div > p')\n",
        "\n",
        "# 各<p>タグのテキストを結合して1つの文字列にする\n",
        "article_text = ''.join([sentence.text for sentence in sentences])\n",
        "#タイトルを表示する\n",
        "print(sentences)"
      ],
      "metadata": {
        "colab": {
          "base_uri": "https://localhost:8080/"
        },
        "collapsed": true,
        "id": "QaBBrFeVFbg9",
        "outputId": "3a37c564-50e9-4283-c13c-334f9014ab8a"
      },
      "execution_count": 14,
      "outputs": [
        {
          "output_type": "stream",
          "name": "stdout",
          "text": [
            "[<p class=\"sc-54nboa-0 deLyrJ yjSlinkDirectlink highLightSearchTarget\">　【パリ共同】ウクライナのゼレンスキー大統領は、自国がロシアに侵攻される中で開かれたパリ五輪について「私たちの国にとってはお祭りではない。戦時下に代表団が参加するだけで勝利だ」と述べた。1日付のフランス紙リベラシオンがインタビューを報じた。\n",
            "\n",
            "<a data-cl-params=\"_cl_vmodule:related;_cl_link:photo;_cl_position:1;view_pos:1;shcid:6105c855284d50d7f36f8c16d8334bda34524f86;url:https%3A%2F%2Fwww.47news.jp%2Frelation-n%2F2023103001;title:【写真】ロシアが核攻撃に踏み切ったらアメリカはどこに報復するか？　米政権内で行われていた机上演習の衝撃的な中身;\" href=\"https://www.47news.jp/relation-n/2023103001\">【写真】ロシアが核攻撃に踏み切ったらアメリカはどこに報復するか？　米政権内で行われていた机上演習の衝撃的な中身</a></p>, <p class=\"sc-54nboa-0 deLyrJ yjSlinkDirectlink highLightSearchTarget\">　フランスのマクロン大統領から開会式の招待があったことを明らかにし「喜んで応じたかったが、国は現在困難な時期にある。東部の状況は緊迫している」と欠席した理由を説明した。「攻撃を続けるロシア人には五輪が開催中であることなど、どうでもいいことだからだ」と非難した。</p>]\n"
          ]
        }
      ]
    },
    {
      "cell_type": "code",
      "source": [],
      "metadata": {
        "id": "ofIg1QSqXd3q"
      },
      "execution_count": null,
      "outputs": []
    }
  ]
}