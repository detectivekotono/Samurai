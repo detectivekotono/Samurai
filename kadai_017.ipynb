{
  "nbformat": 4,
  "nbformat_minor": 0,
  "metadata": {
    "colab": {
      "provenance": [],
      "authorship_tag": "ABX9TyNXBhH5M+8B6Yi7hWdRaOVw"
    },
    "kernelspec": {
      "name": "python3",
      "display_name": "Python 3"
    },
    "language_info": {
      "name": "python"
    }
  },
  "cells": [
    {
      "cell_type": "code",
      "execution_count": 1,
      "metadata": {
        "colab": {
          "base_uri": "https://localhost:8080/"
        },
        "id": "SBsBY1xyDWmU",
        "outputId": "9fc267cb-73cc-4b73-f050-e377035dc114"
      },
      "outputs": [
        {
          "output_type": "stream",
          "name": "stdout",
          "text": [
            "太郎さんは大人ではありません。\n",
            "花子さんは大人です。\n",
            "次郎さんは大人ではありません。\n"
          ]
        }
      ],
      "source": [
        "class Human:\n",
        "    def __init__(self, name, age):\n",
        "        self.name = name\n",
        "        self.age = age\n",
        "    def check_adult(self):\n",
        "        if self.age >= 20:\n",
        "            print(f\"{self.name}さんは大人です。\")\n",
        "        else:\n",
        "            print(f\"{self.name}さんは大人ではありません。\")\n",
        "person1 = Human(\"太郎\", 18)\n",
        "person2 = Human(\"花子\", 22)\n",
        "person3 = Human(\"次郎\", 16)\n",
        "people = [person1, person2, person3]\n",
        "for person in people:\n",
        "    person.check_adult()\n"
      ]
    }
  ]
}